{
 "cells": [
  {
   "cell_type": "code",
   "execution_count": 2,
   "metadata": {},
   "outputs": [],
   "source": [
    "import pandas as pd\n",
    "from functions_preprocessing_alarms import first_eboxes_preprocess, first_lights_preprocess, big_preprocess_eboxes, big_preprocess_lights\n",
    "from functions_preprocessing_readings import split_readings, pre_power, pre_power_peak\n",
    "from functions_preprocessing_meteo import first_meteo_preprocess, meteo_groupby"
   ]
  },
  {
   "cell_type": "code",
   "execution_count": 14,
   "metadata": {},
   "outputs": [],
   "source": [
    "# Warining about modifying the column of a dataframe\n",
    "pd.options.mode.chained_assignment = None"
   ]
  },
  {
   "cell_type": "code",
   "execution_count": 4,
   "metadata": {},
   "outputs": [],
   "source": [
    "eboxes_alarms = pd.read_csv(\"/home/leibniz/Desktop/IHMAN/raw_data/canyelles_eboxes_alarms.csv\")\n",
    "light_alarms = pd.read_csv(\"/home/leibniz/Desktop/IHMAN/raw_data/canyelles_lights_alarms.csv\")\n",
    "nodes = pd.read_csv(\"/home/leibniz/Desktop/IHMAN/raw_data/canyelles_nodes.csv\")\n",
    "readings = pd.read_csv(\"/home/leibniz/Desktop/IHMAN/raw_data/canyelles_readings.csv\")\n",
    "meteo = pd.read_csv(\"/home/leibniz/Desktop/IHMAN/meteo_raw_data/meteo_canyelles.csv\")"
   ]
  },
  {
   "cell_type": "code",
   "execution_count": 16,
   "metadata": {},
   "outputs": [],
   "source": [
    "powerReactive, powerActive, powerReactivePeak, powerActivePeak = split_readings(readings)"
   ]
  },
  {
   "cell_type": "code",
   "execution_count": 17,
   "metadata": {},
   "outputs": [],
   "source": [
    "powerReactive = pre_power(powerReactive)\n",
    "powerActive = pre_power(powerActive)\n",
    "powerReactivePeak = pre_power_peak(powerReactivePeak)\n",
    "powerActivePeak = pre_power_peak(powerActivePeak)"
   ]
  },
  {
   "cell_type": "code",
   "execution_count": 18,
   "metadata": {},
   "outputs": [],
   "source": [
    "meteo = first_meteo_preprocess(\n",
    "    meteo = meteo,\n",
    "    filter_dates = True,\n",
    "    date_min = \"2018-12-31\",\n",
    "    date_max = \"2100-01-01\"\n",
    ")\n",
    "\n",
    "meteo = meteo_groupby(meteo)"
   ]
  },
  {
   "cell_type": "code",
   "execution_count": 19,
   "metadata": {},
   "outputs": [],
   "source": [
    "light_alarms = first_lights_preprocess(light_alarms)"
   ]
  },
  {
   "cell_type": "code",
   "execution_count": 20,
   "metadata": {},
   "outputs": [
    {
     "name": "stdout",
     "output_type": "stream",
     "text": [
      "AA0000013912\n",
      "AA0000013913\n",
      "AA0000013926\n",
      "AA0000013931\n",
      "AA000001393D\n",
      "AA000001393E\n",
      "AA0000016F53\n",
      "AA000001726C\n",
      "AA0000017324\n",
      "AA00000184EB\n",
      "AA0000018505\n",
      "AA0000018696\n",
      "AA0000018697\n",
      "AA0000018698\n",
      "AA0000018699\n",
      "AA00000186B4\n",
      "AA00000186D0\n",
      "AA0000018704\n",
      "AA0000018705\n",
      "AA0000018706\n",
      "AA0000018719\n",
      "AA0000018745\n",
      "AA0000018765\n",
      "AA0000018769\n",
      "AA000001876F\n",
      "AA000001877F\n",
      "AA0000018978\n",
      "AA0000018981\n",
      "AA00000189AC\n",
      "AA00000189AD\n",
      "AA00000189B8\n",
      "AA00000189B9\n",
      "AA00000189C6\n",
      "AA00000189CB\n",
      "AA00000189E7\n",
      "AA0000018A0B\n",
      "AA0000018A38\n",
      "AA0000018A54\n",
      "AA0000018A60\n",
      "AA0000018A6C\n",
      "AA0000018B4F\n",
      "AA0000018B5F\n",
      "AA0000018B8A\n",
      "AA0000018B99\n",
      "AA0000018BA7\n",
      "AA0000018BA8\n",
      "AA0000018BB7\n",
      "AA0000018C28\n",
      "AA0000018C65\n",
      "AA0000018C9B\n",
      "AA0000018D53\n",
      "AA0000018D6A\n",
      "AA0000018D78\n",
      "AA0000018D7B\n",
      "AA0000018D85\n",
      "AA0000018D87\n",
      "AA0000018D89\n",
      "AA0000018D8A\n",
      "AA0000018D8C\n",
      "AA0000018D93\n",
      "AA0000018D9D\n",
      "AA0000018DA1\n",
      "AA0000018DA8\n",
      "AA0000018DAB\n",
      "AA0000018DB1\n",
      "AA0000018DBD\n",
      "AA0000018DD0\n",
      "AA0000018DD8\n",
      "AA0000018DDF\n",
      "AA0000018DE3\n",
      "AA0000018DEF\n",
      "AA0000018DF7\n",
      "AA0000018DFC\n",
      "AA0000018E0C\n",
      "AA0000018E10\n",
      "AA0000018E9D\n",
      "AA0000018EB4\n",
      "AA0000018EC0\n",
      "AA0000018ECB\n",
      "AA0000018ED0\n",
      "AA0000018ED2\n",
      "AA0000018EE1\n",
      "AA0000018EE2\n",
      "AA0000018EF0\n",
      "AA0000018EF2\n",
      "AA0000018EF4\n",
      "AA0000018EF9\n",
      "AA0000018F04\n",
      "AA0000018F07\n",
      "AA0000018F0A\n",
      "AA0000018F0F\n",
      "AA0000018F17\n",
      "AA0000018F1F\n",
      "AA0000018F21\n",
      "AA0000018F28\n",
      "AA0000018F2A\n",
      "AA0000018F31\n",
      "AA0000018F41\n",
      "AA0000018F53\n",
      "AA0000018F78\n",
      "AA0000018F83\n",
      "AA0000018F91\n",
      "AA0000018F95\n",
      "AA0000018F9A\n",
      "AA0000018F9B\n",
      "AA0000018F9C\n",
      "AA0000018FAC\n",
      "AA0000018FAD\n",
      "AA0000018FAE\n",
      "AA0000018FBB\n",
      "AA0000018FBC\n",
      "AA0000018FBD\n",
      "AA0000018FC1\n",
      "AA0000018FF0\n",
      "AA0000019033\n",
      "AA00000191C1\n",
      "AA00000191D0\n",
      "AA00000191F4\n",
      "AA0000019204\n",
      "AA0000019206\n",
      "AA0000019252\n",
      "AA0000019261\n",
      "AA000001926A\n",
      "AA000001926D\n",
      "AA0000019277\n",
      "AA000001927D\n",
      "AA00000192DE\n",
      "AA0000019325\n",
      "AA0000019329\n",
      "AA0000019350\n",
      "AA0000019352\n",
      "AA0000019356\n",
      "AA000001935D\n",
      "AA0000019365\n",
      "AA000001936A\n",
      "AA000001937B\n",
      "AA0000019383\n",
      "AA0000019387\n",
      "AA000001938E\n",
      "AA00000193A8\n",
      "AA0000019689\n",
      "AA000001971E\n",
      "AA000001CEEC\n",
      "Execution time:492.063223361969\n"
     ]
    }
   ],
   "source": [
    "light_errors = big_preprocess_lights(light_alarms)"
   ]
  },
  {
   "cell_type": "code",
   "execution_count": 24,
   "metadata": {},
   "outputs": [
    {
     "name": "stdout",
     "output_type": "stream",
     "text": [
      "AA000000D44C\n",
      "AA0000011276\n",
      "AA0000011277\n",
      "AA000001128F\n",
      "AA0000011290\n",
      "AA00000112BE\n",
      "AA00000112CB\n",
      "AA00000112CD\n",
      "AA000001167D\n",
      "AA0000011681\n",
      "AA000001169B\n",
      "Execution time:11.68671202659607\n"
     ]
    }
   ],
   "source": [
    "eboxes_alarms = first_eboxes_preprocess(eboxes_alarms)\n",
    "eboxes_alarms = big_preprocess_eboxes(eboxes_alarms)"
   ]
  }
 ],
 "metadata": {
  "kernelspec": {
   "display_name": "base",
   "language": "python",
   "name": "python3"
  },
  "language_info": {
   "codemirror_mode": {
    "name": "ipython",
    "version": 3
   },
   "file_extension": ".py",
   "mimetype": "text/x-python",
   "name": "python",
   "nbconvert_exporter": "python",
   "pygments_lexer": "ipython3",
   "version": "3.9.12"
  },
  "orig_nbformat": 4
 },
 "nbformat": 4,
 "nbformat_minor": 2
}
